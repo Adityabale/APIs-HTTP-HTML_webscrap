{
 "cells": [
  {
   "cell_type": "markdown",
   "id": "c5d7e968",
   "metadata": {},
   "source": [
    "### Get Request with URL Parameters"
   ]
  },
  {
   "cell_type": "code",
   "execution_count": 1,
   "id": "ee32fc6b",
   "metadata": {},
   "outputs": [],
   "source": [
    "import requests"
   ]
  },
  {
   "cell_type": "code",
   "execution_count": 2,
   "id": "a7bbb9cb",
   "metadata": {},
   "outputs": [],
   "source": [
    "url_get='http://httpbin.org/get'"
   ]
  },
  {
   "cell_type": "code",
   "execution_count": 3,
   "id": "80296481",
   "metadata": {},
   "outputs": [],
   "source": [
    "#A query string is a part of a uniform resource locator (URL), \n",
    "#This sends other information to the web server.\n",
    "#The start of the query is a ?, followed by a series of parameter and value pairs"
   ]
  },
  {
   "cell_type": "code",
   "execution_count": 4,
   "id": "4f930754",
   "metadata": {},
   "outputs": [],
   "source": [
    "#The keys are the parameter names and the values are the value of the Query string.\n",
    "payload={\"name\":\"Joseph\",\"ID\":\"123\"}"
   ]
  },
  {
   "cell_type": "code",
   "execution_count": 5,
   "id": "e57360b9",
   "metadata": {},
   "outputs": [],
   "source": [
    "# passing the dictionary payload to the params parameter of the  get() function\n",
    "r=requests.get(url_get,params=payload)"
   ]
  },
  {
   "cell_type": "code",
   "execution_count": 6,
   "id": "d4fb1dc7",
   "metadata": {},
   "outputs": [
    {
     "data": {
      "text/plain": [
       "'http://httpbin.org/get?name=Joseph&ID=123'"
      ]
     },
     "execution_count": 6,
     "metadata": {},
     "output_type": "execute_result"
    }
   ],
   "source": [
    "#print out the URL\n",
    "r.url"
   ]
  },
  {
   "cell_type": "code",
   "execution_count": 7,
   "id": "3c7614ff",
   "metadata": {},
   "outputs": [
    {
     "name": "stdout",
     "output_type": "stream",
     "text": [
      "request body: None\n"
     ]
    }
   ],
   "source": [
    "#There is no request body \n",
    "print(\"request body:\", r.request.body)"
   ]
  },
  {
   "cell_type": "code",
   "execution_count": 8,
   "id": "91a6feb2",
   "metadata": {},
   "outputs": [
    {
     "name": "stdout",
     "output_type": "stream",
     "text": [
      "200\n"
     ]
    }
   ],
   "source": [
    "print(r.status_code)"
   ]
  },
  {
   "cell_type": "code",
   "execution_count": 9,
   "id": "bb305740",
   "metadata": {},
   "outputs": [
    {
     "name": "stdout",
     "output_type": "stream",
     "text": [
      "{\n",
      "  \"args\": {\n",
      "    \"ID\": \"123\", \n",
      "    \"name\": \"Joseph\"\n",
      "  }, \n",
      "  \"headers\": {\n",
      "    \"Accept\": \"*/*\", \n",
      "    \"Accept-Encoding\": \"gzip, deflate, br\", \n",
      "    \"Host\": \"httpbin.org\", \n",
      "    \"User-Agent\": \"python-requests/2.26.0\", \n",
      "    \"X-Amzn-Trace-Id\": \"Root=1-639ab310-79e98cab6d99c9d7101d9989\"\n",
      "  }, \n",
      "  \"origin\": \"59.94.9.92\", \n",
      "  \"url\": \"http://httpbin.org/get?name=Joseph&ID=123\"\n",
      "}\n",
      "\n"
     ]
    }
   ],
   "source": [
    "print(r.text)"
   ]
  },
  {
   "cell_type": "code",
   "execution_count": 10,
   "id": "3526a1c5",
   "metadata": {},
   "outputs": [
    {
     "data": {
      "text/plain": [
       "'application/json'"
      ]
     },
     "execution_count": 10,
     "metadata": {},
     "output_type": "execute_result"
    }
   ],
   "source": [
    "# As the content 'Content-Type' is in the JSON format we can use the method json(), it returns a Python dictr.headers['Content-Type']\n",
    "r.headers['Content-Type']"
   ]
  },
  {
   "cell_type": "code",
   "execution_count": 11,
   "id": "fa115bcd",
   "metadata": {},
   "outputs": [
    {
     "data": {
      "text/plain": [
       "{'args': {'ID': '123', 'name': 'Joseph'},\n",
       " 'headers': {'Accept': '*/*',\n",
       "  'Accept-Encoding': 'gzip, deflate, br',\n",
       "  'Host': 'httpbin.org',\n",
       "  'User-Agent': 'python-requests/2.26.0',\n",
       "  'X-Amzn-Trace-Id': 'Root=1-639ab310-79e98cab6d99c9d7101d9989'},\n",
       " 'origin': '59.94.9.92',\n",
       " 'url': 'http://httpbin.org/get?name=Joseph&ID=123'}"
      ]
     },
     "execution_count": 11,
     "metadata": {},
     "output_type": "execute_result"
    }
   ],
   "source": [
    "r.json()"
   ]
  },
  {
   "cell_type": "code",
   "execution_count": 12,
   "id": "88433d07",
   "metadata": {},
   "outputs": [
    {
     "data": {
      "text/plain": [
       "{'ID': '123', 'name': 'Joseph'}"
      ]
     },
     "execution_count": 12,
     "metadata": {},
     "output_type": "execute_result"
    }
   ],
   "source": [
    "#The key args has the name and values:\n",
    "r.json()['args']"
   ]
  },
  {
   "cell_type": "markdown",
   "id": "7d90f210",
   "metadata": {},
   "source": [
    "### Post Requests "
   ]
  },
  {
   "cell_type": "code",
   "execution_count": 13,
   "id": "e8342dcd",
   "metadata": {},
   "outputs": [],
   "source": [
    "url_post='http://httpbin.org/post'\n",
    "#This endpoint will expect data as a file or as a form."
   ]
  },
  {
   "cell_type": "code",
   "execution_count": 14,
   "id": "95ba92a9",
   "metadata": {},
   "outputs": [],
   "source": [
    "# The variable payload is passed to the parameter data\n",
    "r_post=requests.post(url_post,data=payload)"
   ]
  },
  {
   "cell_type": "code",
   "execution_count": 15,
   "id": "f8d0dbdf",
   "metadata": {},
   "outputs": [
    {
     "name": "stdout",
     "output_type": "stream",
     "text": [
      "POST request URL: http://httpbin.org/post\n",
      "GET request URL: http://httpbin.org/get?name=Joseph&ID=123\n"
     ]
    }
   ],
   "source": [
    "#Comparing the URL from the response object of the GET and POST request \n",
    "#we see the POST request has no name or value pairs\n",
    "print(\"POST request URL:\",r_post.url )\n",
    "print(\"GET request URL:\",r.url)"
   ]
  },
  {
   "cell_type": "code",
   "execution_count": 16,
   "id": "fc79e38e",
   "metadata": {},
   "outputs": [
    {
     "name": "stdout",
     "output_type": "stream",
     "text": [
      "POST request body: name=Joseph&ID=123\n",
      "GET request body: None\n"
     ]
    }
   ],
   "source": [
    "#We can compare the POST and GET request body, \n",
    "#we see only the POST request has a body:\n",
    "print(\"POST request body:\",r_post.request.body)\n",
    "print(\"GET request body:\",r.request.body)"
   ]
  },
  {
   "cell_type": "code",
   "execution_count": 17,
   "id": "a644e039",
   "metadata": {},
   "outputs": [
    {
     "data": {
      "text/plain": [
       "{'ID': '123', 'name': 'Joseph'}"
      ]
     },
     "execution_count": 17,
     "metadata": {},
     "output_type": "execute_result"
    }
   ],
   "source": [
    "#View the form as well:\n",
    "r_post.json()['form']"
   ]
  }
 ],
 "metadata": {
  "kernelspec": {
   "display_name": "Python 3 (ipykernel)",
   "language": "python",
   "name": "python3"
  },
  "language_info": {
   "codemirror_mode": {
    "name": "ipython",
    "version": 3
   },
   "file_extension": ".py",
   "mimetype": "text/x-python",
   "name": "python",
   "nbconvert_exporter": "python",
   "pygments_lexer": "ipython3",
   "version": "3.9.12"
  }
 },
 "nbformat": 4,
 "nbformat_minor": 5
}
